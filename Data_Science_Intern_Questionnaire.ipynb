{
  "nbformat": 4,
  "nbformat_minor": 0,
  "metadata": {
    "colab": {
      "name": "Data Science Intern Questionnaire.ipynb",
      "provenance": [],
      "authorship_tag": "ABX9TyOhcCjqEMHMMhSCb28gdxj4"
    },
    "kernelspec": {
      "name": "python3",
      "display_name": "Python 3"
    }
  },
  "cells": [
    {
      "cell_type": "markdown",
      "metadata": {
        "id": "suhOcjIlVJj0"
      },
      "source": [
        "## Setup"
      ]
    },
    {
      "cell_type": "code",
      "metadata": {
        "id": "ZmFIV2rubTGU"
      },
      "source": [
        "import sqlite3, pandas as pd, matplotlib.pyplot as plt"
      ],
      "execution_count": 1,
      "outputs": []
    },
    {
      "cell_type": "markdown",
      "metadata": {
        "id": "M04UbClcVcif"
      },
      "source": [
        "## Create Data"
      ]
    },
    {
      "cell_type": "code",
      "metadata": {
        "id": "4eDIF_0eVaKg"
      },
      "source": [
        "conn = sqlite3.connect(\"example.db\")\n",
        "\n",
        "conn.execute('''\n",
        "CREATE TABLE IF NOT EXISTS name_table(StudentID TEXT PRIMARY KEY, Name TEXT);''')\n",
        "\n",
        "conn.commit()"
      ],
      "execution_count": 2,
      "outputs": []
    },
    {
      "cell_type": "code",
      "metadata": {
        "id": "-9A2E8mebzDB"
      },
      "source": [
        "conn = sqlite3.connect(\"example.db\")\n",
        "\n",
        "conn.execute(\"INSERT INTO name_table VALUES('V001', 'Abe');\")\n",
        "conn.execute(\"INSERT INTO name_table VALUES('V002', 'Abhay');\")\n",
        "conn.execute(\"INSERT INTO name_table VALUES('V003', 'Acelin');\")\n",
        "conn.execute(\"INSERT INTO name_table VALUES('V004', 'Adelphos');\")\n",
        "\n",
        "conn.commit()"
      ],
      "execution_count": 7,
      "outputs": []
    },
    {
      "cell_type": "code",
      "metadata": {
        "colab": {
          "base_uri": "https://localhost:8080/"
        },
        "id": "0QWcD_TKdgkI",
        "outputId": "9d866c4b-2fdf-4c34-8d80-449f9e8166c5"
      },
      "source": [
        "for i in conn.execute('''Select * From name_table'''):\n",
        "  print(i)"
      ],
      "execution_count": 8,
      "outputs": [
        {
          "output_type": "stream",
          "text": [
            "('V001', 'Abe')\n",
            "('V002', 'Abhay')\n",
            "('V003', 'Acelin')\n",
            "('V004', 'Adelphos')\n"
          ],
          "name": "stdout"
        }
      ]
    },
    {
      "cell_type": "code",
      "metadata": {
        "id": "JLQIz4nr1XFX"
      },
      "source": [
        "conn.execute('''\n",
        "CREATE TABLE IF NOT EXISTS mark_table(StudentID TEXT PRIMARY KEY, Total_marks INTEGER);''')\n",
        "\n",
        "conn.commit()"
      ],
      "execution_count": 9,
      "outputs": []
    },
    {
      "cell_type": "code",
      "metadata": {
        "id": "TC_koCAM1qpF"
      },
      "source": [
        "conn.execute(\"INSERT INTO mark_table VALUES('V001', 95);\")\n",
        "conn.execute(\"INSERT INTO mark_table VALUES('V002', 80);\")\n",
        "conn.execute(\"INSERT INTO mark_table VALUES('V003', 74);\")\n",
        "conn.execute(\"INSERT INTO mark_table VALUES('V004', 81);\")\n",
        "\n",
        "conn.commit()"
      ],
      "execution_count": 10,
      "outputs": []
    },
    {
      "cell_type": "code",
      "metadata": {
        "colab": {
          "base_uri": "https://localhost:8080/"
        },
        "id": "zgcPz56V1zCT",
        "outputId": "b66a470c-3d78-49c6-89b5-f4014de78029"
      },
      "source": [
        "for i in conn.execute('''Select * From mark_table'''):\n",
        "  print(i)"
      ],
      "execution_count": 11,
      "outputs": [
        {
          "output_type": "stream",
          "text": [
            "('V001', 95)\n",
            "('V002', 80)\n",
            "('V003', 74)\n",
            "('V004', 81)\n"
          ],
          "name": "stdout"
        }
      ]
    },
    {
      "cell_type": "markdown",
      "metadata": {
        "id": "SdTQlRa-21dE"
      },
      "source": [
        "## Section 1"
      ]
    },
    {
      "cell_type": "markdown",
      "metadata": {
        "id": "B3BAqJh9-82G"
      },
      "source": [
        "### Q1"
      ]
    },
    {
      "cell_type": "code",
      "metadata": {
        "colab": {
          "base_uri": "https://localhost:8080/"
        },
        "id": "aRFS4wyE2yb_",
        "outputId": "649d05f2-1485-439f-f903-1ba0d3871845"
      },
      "source": [
        "query = '''Select nt.StudentID, nt.Name From name_table nt\n",
        "      Where nt.StudentID IN \n",
        "      (Select mt.StudentID From Mark_table mt\n",
        "      Where mt.Total_marks > (Select Total_marks From Mark_table Where StudentID == 'V002'));'''\n",
        "\n",
        "for e in conn.execute(query):\n",
        "  print(e)"
      ],
      "execution_count": 28,
      "outputs": [
        {
          "output_type": "stream",
          "text": [
            "('V001', 'Abe')\n",
            "('V004', 'Adelphos')\n"
          ],
          "name": "stdout"
        }
      ]
    },
    {
      "cell_type": "markdown",
      "metadata": {
        "id": "1JKfmnnS_AWn"
      },
      "source": [
        "### Q2"
      ]
    },
    {
      "cell_type": "code",
      "metadata": {
        "id": "qm6y8xAE-7c2"
      },
      "source": [
        "name_table = pd.read_sql_query(\"Select * From name_table\", conn)"
      ],
      "execution_count": 36,
      "outputs": []
    },
    {
      "cell_type": "code",
      "metadata": {
        "colab": {
          "base_uri": "https://localhost:8080/",
          "height": 173
        },
        "id": "mN3yzEahAlJJ",
        "outputId": "badcffba-0bcb-4b56-9bec-2fb3a2814915"
      },
      "source": [
        "name_table.head()"
      ],
      "execution_count": 37,
      "outputs": [
        {
          "output_type": "execute_result",
          "data": {
            "text/html": [
              "<div>\n",
              "<style scoped>\n",
              "    .dataframe tbody tr th:only-of-type {\n",
              "        vertical-align: middle;\n",
              "    }\n",
              "\n",
              "    .dataframe tbody tr th {\n",
              "        vertical-align: top;\n",
              "    }\n",
              "\n",
              "    .dataframe thead th {\n",
              "        text-align: right;\n",
              "    }\n",
              "</style>\n",
              "<table border=\"1\" class=\"dataframe\">\n",
              "  <thead>\n",
              "    <tr style=\"text-align: right;\">\n",
              "      <th></th>\n",
              "      <th>StudentID</th>\n",
              "      <th>Name</th>\n",
              "    </tr>\n",
              "  </thead>\n",
              "  <tbody>\n",
              "    <tr>\n",
              "      <th>0</th>\n",
              "      <td>V001</td>\n",
              "      <td>Abe</td>\n",
              "    </tr>\n",
              "    <tr>\n",
              "      <th>1</th>\n",
              "      <td>V002</td>\n",
              "      <td>Abhay</td>\n",
              "    </tr>\n",
              "    <tr>\n",
              "      <th>2</th>\n",
              "      <td>V003</td>\n",
              "      <td>Acelin</td>\n",
              "    </tr>\n",
              "    <tr>\n",
              "      <th>3</th>\n",
              "      <td>V004</td>\n",
              "      <td>Adelphos</td>\n",
              "    </tr>\n",
              "  </tbody>\n",
              "</table>\n",
              "</div>"
            ],
            "text/plain": [
              "  StudentID      Name\n",
              "0      V001       Abe\n",
              "1      V002     Abhay\n",
              "2      V003    Acelin\n",
              "3      V004  Adelphos"
            ]
          },
          "metadata": {
            "tags": []
          },
          "execution_count": 37
        }
      ]
    },
    {
      "cell_type": "code",
      "metadata": {
        "id": "XTx5VjijAoVg"
      },
      "source": [
        "mark_table = pd.read_sql_query(\"Select * From mark_table\", conn)"
      ],
      "execution_count": 38,
      "outputs": []
    },
    {
      "cell_type": "code",
      "metadata": {
        "colab": {
          "base_uri": "https://localhost:8080/",
          "height": 173
        },
        "id": "RYe1VphvArEt",
        "outputId": "881efec8-b222-4dc7-f8bb-753fe05b12a7"
      },
      "source": [
        "mark_table"
      ],
      "execution_count": 39,
      "outputs": [
        {
          "output_type": "execute_result",
          "data": {
            "text/html": [
              "<div>\n",
              "<style scoped>\n",
              "    .dataframe tbody tr th:only-of-type {\n",
              "        vertical-align: middle;\n",
              "    }\n",
              "\n",
              "    .dataframe tbody tr th {\n",
              "        vertical-align: top;\n",
              "    }\n",
              "\n",
              "    .dataframe thead th {\n",
              "        text-align: right;\n",
              "    }\n",
              "</style>\n",
              "<table border=\"1\" class=\"dataframe\">\n",
              "  <thead>\n",
              "    <tr style=\"text-align: right;\">\n",
              "      <th></th>\n",
              "      <th>StudentID</th>\n",
              "      <th>Total_marks</th>\n",
              "    </tr>\n",
              "  </thead>\n",
              "  <tbody>\n",
              "    <tr>\n",
              "      <th>0</th>\n",
              "      <td>V001</td>\n",
              "      <td>95</td>\n",
              "    </tr>\n",
              "    <tr>\n",
              "      <th>1</th>\n",
              "      <td>V002</td>\n",
              "      <td>80</td>\n",
              "    </tr>\n",
              "    <tr>\n",
              "      <th>2</th>\n",
              "      <td>V003</td>\n",
              "      <td>74</td>\n",
              "    </tr>\n",
              "    <tr>\n",
              "      <th>3</th>\n",
              "      <td>V004</td>\n",
              "      <td>81</td>\n",
              "    </tr>\n",
              "  </tbody>\n",
              "</table>\n",
              "</div>"
            ],
            "text/plain": [
              "  StudentID  Total_marks\n",
              "0      V001           95\n",
              "1      V002           80\n",
              "2      V003           74\n",
              "3      V004           81"
            ]
          },
          "metadata": {
            "tags": []
          },
          "execution_count": 39
        }
      ]
    },
    {
      "cell_type": "code",
      "metadata": {
        "id": "WhaoL8JNAs3u"
      },
      "source": [
        "def chnage_letter_case(df, col_name):\n",
        "  df[col_name] = df[col_name].apply(lambda x: x.upper() if (\"e\" in x) or (\"E\" in x) else x.lower())\n",
        "\n",
        "  return df"
      ],
      "execution_count": 90,
      "outputs": []
    },
    {
      "cell_type": "code",
      "metadata": {
        "colab": {
          "base_uri": "https://localhost:8080/",
          "height": 173
        },
        "id": "a48qaDEWC7B7",
        "outputId": "bf7b6099-2ef3-4544-87a4-8fc7ec7bcb10"
      },
      "source": [
        "chnage_letter_case(name_table.copy(), \"Name\")"
      ],
      "execution_count": 91,
      "outputs": [
        {
          "output_type": "execute_result",
          "data": {
            "text/html": [
              "<div>\n",
              "<style scoped>\n",
              "    .dataframe tbody tr th:only-of-type {\n",
              "        vertical-align: middle;\n",
              "    }\n",
              "\n",
              "    .dataframe tbody tr th {\n",
              "        vertical-align: top;\n",
              "    }\n",
              "\n",
              "    .dataframe thead th {\n",
              "        text-align: right;\n",
              "    }\n",
              "</style>\n",
              "<table border=\"1\" class=\"dataframe\">\n",
              "  <thead>\n",
              "    <tr style=\"text-align: right;\">\n",
              "      <th></th>\n",
              "      <th>StudentID</th>\n",
              "      <th>Name</th>\n",
              "    </tr>\n",
              "  </thead>\n",
              "  <tbody>\n",
              "    <tr>\n",
              "      <th>0</th>\n",
              "      <td>V001</td>\n",
              "      <td>ABE</td>\n",
              "    </tr>\n",
              "    <tr>\n",
              "      <th>1</th>\n",
              "      <td>V002</td>\n",
              "      <td>abhay</td>\n",
              "    </tr>\n",
              "    <tr>\n",
              "      <th>2</th>\n",
              "      <td>V003</td>\n",
              "      <td>ACELIN</td>\n",
              "    </tr>\n",
              "    <tr>\n",
              "      <th>3</th>\n",
              "      <td>V004</td>\n",
              "      <td>ADELPHOS</td>\n",
              "    </tr>\n",
              "  </tbody>\n",
              "</table>\n",
              "</div>"
            ],
            "text/plain": [
              "  StudentID      Name\n",
              "0      V001       ABE\n",
              "1      V002     abhay\n",
              "2      V003    ACELIN\n",
              "3      V004  ADELPHOS"
            ]
          },
          "metadata": {
            "tags": []
          },
          "execution_count": 91
        }
      ]
    },
    {
      "cell_type": "markdown",
      "metadata": {
        "id": "cEzziKfTKZiS"
      },
      "source": [
        "### Q3"
      ]
    },
    {
      "cell_type": "code",
      "metadata": {
        "id": "Uq32A4SYKW93"
      },
      "source": [
        "def avg_by_case(df1, df2, col_name1, col_name2):\n",
        "  df1 = chnage_letter_case(df1, col_name1)\n",
        "  df1[\"upper_case\"] = df1[col_name1].str.isupper()\n",
        "  new_df = pd.merge(df1, df2, on=col_name2)\n",
        "  print(new_df)\n",
        "  \n",
        "  return new_df.groupby(\"upper_case\").mean()"
      ],
      "execution_count": 109,
      "outputs": []
    },
    {
      "cell_type": "code",
      "metadata": {
        "colab": {
          "base_uri": "https://localhost:8080/",
          "height": 232
        },
        "id": "lNcnwQN9MR2A",
        "outputId": "71e2cc5c-e3c0-4751-9195-f3dad295e361"
      },
      "source": [
        "avg_by_case(name_table.copy(), mark_table.copy(), \"Name\", \"StudentID\")"
      ],
      "execution_count": 110,
      "outputs": [
        {
          "output_type": "stream",
          "text": [
            "  StudentID      Name  upper_case  Total_marks\n",
            "0      V001       ABE        True           95\n",
            "1      V002     abhay       False           80\n",
            "2      V003    ACELIN        True           74\n",
            "3      V004  ADELPHOS        True           81\n"
          ],
          "name": "stdout"
        },
        {
          "output_type": "execute_result",
          "data": {
            "text/html": [
              "<div>\n",
              "<style scoped>\n",
              "    .dataframe tbody tr th:only-of-type {\n",
              "        vertical-align: middle;\n",
              "    }\n",
              "\n",
              "    .dataframe tbody tr th {\n",
              "        vertical-align: top;\n",
              "    }\n",
              "\n",
              "    .dataframe thead th {\n",
              "        text-align: right;\n",
              "    }\n",
              "</style>\n",
              "<table border=\"1\" class=\"dataframe\">\n",
              "  <thead>\n",
              "    <tr style=\"text-align: right;\">\n",
              "      <th></th>\n",
              "      <th>Total_marks</th>\n",
              "    </tr>\n",
              "    <tr>\n",
              "      <th>upper_case</th>\n",
              "      <th></th>\n",
              "    </tr>\n",
              "  </thead>\n",
              "  <tbody>\n",
              "    <tr>\n",
              "      <th>False</th>\n",
              "      <td>80.000000</td>\n",
              "    </tr>\n",
              "    <tr>\n",
              "      <th>True</th>\n",
              "      <td>83.333333</td>\n",
              "    </tr>\n",
              "  </tbody>\n",
              "</table>\n",
              "</div>"
            ],
            "text/plain": [
              "            Total_marks\n",
              "upper_case             \n",
              "False         80.000000\n",
              "True          83.333333"
            ]
          },
          "metadata": {
            "tags": []
          },
          "execution_count": 110
        }
      ]
    },
    {
      "cell_type": "markdown",
      "metadata": {
        "id": "D1QWRlKSONAP"
      },
      "source": [
        "## Section 2"
      ]
    },
    {
      "cell_type": "markdown",
      "metadata": {
        "id": "dAAG0JycOS3j"
      },
      "source": [
        "### Q1"
      ]
    },
    {
      "cell_type": "code",
      "metadata": {
        "colab": {
          "base_uri": "https://localhost:8080/"
        },
        "id": "Z1NI6AUOlrHc",
        "outputId": "107be9b5-17f8-4531-d906-48e85df9fda0"
      },
      "source": [
        "!wget https://raw.githubusercontent.com/mathcoder3141/blog-data-files/master/Congress_White_House.csv"
      ],
      "execution_count": 143,
      "outputs": [
        {
          "output_type": "stream",
          "text": [
            "--2020-11-19 02:14:40--  https://raw.githubusercontent.com/mathcoder3141/blog-data-files/master/Congress_White_House.csv\n",
            "Resolving raw.githubusercontent.com (raw.githubusercontent.com)... 151.101.0.133, 151.101.64.133, 151.101.128.133, ...\n",
            "Connecting to raw.githubusercontent.com (raw.githubusercontent.com)|151.101.0.133|:443... connected.\n",
            "HTTP request sent, awaiting response... 404 Not Found\n",
            "2020-11-19 02:14:40 ERROR 404: Not Found.\n",
            "\n"
          ],
          "name": "stdout"
        }
      ]
    },
    {
      "cell_type": "markdown",
      "metadata": {
        "id": "gwuCurCNOUM7"
      },
      "source": [
        "### Q2"
      ]
    },
    {
      "cell_type": "code",
      "metadata": {
        "colab": {
          "base_uri": "https://localhost:8080/"
        },
        "id": "6mMb0Gs6Omrk",
        "outputId": "4b80dbc8-78af-4759-ea5a-3544ffdb52ce"
      },
      "source": [
        "!curl https://raw.githubusercontent.com/fractalbass/data_engineer/master/data.csv > data.csv"
      ],
      "execution_count": 125,
      "outputs": [
        {
          "output_type": "stream",
          "text": [
            "  % Total    % Received % Xferd  Average Speed   Time    Time     Time  Current\n",
            "                                 Dload  Upload   Total   Spent    Left  Speed\n",
            "100  229k  100  229k    0     0  1520k      0 --:--:-- --:--:-- --:--:-- 1510k\n"
          ],
          "name": "stdout"
        }
      ]
    },
    {
      "cell_type": "code",
      "metadata": {
        "id": "LeS-RVmt2XSu"
      },
      "source": [
        "temp_data = pd.read_csv(\"data.csv\", sep = \",\", names = [\"ID\", \"val\"], header = None)"
      ],
      "execution_count": 129,
      "outputs": []
    },
    {
      "cell_type": "code",
      "metadata": {
        "colab": {
          "base_uri": "https://localhost:8080/",
          "height": 204
        },
        "id": "6NUE6uipOxeW",
        "outputId": "4aa5ee4a-33c9-4eb4-a73f-4a699782d0e2"
      },
      "source": [
        "temp_data.head()"
      ],
      "execution_count": 130,
      "outputs": [
        {
          "output_type": "execute_result",
          "data": {
            "text/html": [
              "<div>\n",
              "<style scoped>\n",
              "    .dataframe tbody tr th:only-of-type {\n",
              "        vertical-align: middle;\n",
              "    }\n",
              "\n",
              "    .dataframe tbody tr th {\n",
              "        vertical-align: top;\n",
              "    }\n",
              "\n",
              "    .dataframe thead th {\n",
              "        text-align: right;\n",
              "    }\n",
              "</style>\n",
              "<table border=\"1\" class=\"dataframe\">\n",
              "  <thead>\n",
              "    <tr style=\"text-align: right;\">\n",
              "      <th></th>\n",
              "      <th>ID</th>\n",
              "      <th>val</th>\n",
              "    </tr>\n",
              "  </thead>\n",
              "  <tbody>\n",
              "    <tr>\n",
              "      <th>0</th>\n",
              "      <td>0</td>\n",
              "      <td>23.827290</td>\n",
              "    </tr>\n",
              "    <tr>\n",
              "      <th>1</th>\n",
              "      <td>1</td>\n",
              "      <td>23.589108</td>\n",
              "    </tr>\n",
              "    <tr>\n",
              "      <th>2</th>\n",
              "      <td>2</td>\n",
              "      <td>24.529556</td>\n",
              "    </tr>\n",
              "    <tr>\n",
              "      <th>3</th>\n",
              "      <td>3</td>\n",
              "      <td>16.684580</td>\n",
              "    </tr>\n",
              "    <tr>\n",
              "      <th>4</th>\n",
              "      <td>4</td>\n",
              "      <td>22.075507</td>\n",
              "    </tr>\n",
              "  </tbody>\n",
              "</table>\n",
              "</div>"
            ],
            "text/plain": [
              "   ID        val\n",
              "0   0  23.827290\n",
              "1   1  23.589108\n",
              "2   2  24.529556\n",
              "3   3  16.684580\n",
              "4   4  22.075507"
            ]
          },
          "metadata": {
            "tags": []
          },
          "execution_count": 130
        }
      ]
    },
    {
      "cell_type": "code",
      "metadata": {
        "colab": {
          "base_uri": "https://localhost:8080/"
        },
        "id": "ZzPuhVC3Oz5j",
        "outputId": "1126ac21-bddd-43a6-e164-7f6eb086bd97"
      },
      "source": [
        "temp_data[\"val\"].describe()"
      ],
      "execution_count": 134,
      "outputs": [
        {
          "output_type": "execute_result",
          "data": {
            "text/plain": [
              "count    10000.000000\n",
              "mean        23.036075\n",
              "std          2.995296\n",
              "min         11.248686\n",
              "25%         21.007801\n",
              "50%         23.024042\n",
              "75%         25.069083\n",
              "max         33.286533\n",
              "Name: val, dtype: float64"
            ]
          },
          "metadata": {
            "tags": []
          },
          "execution_count": 134
        }
      ]
    },
    {
      "cell_type": "code",
      "metadata": {
        "colab": {
          "base_uri": "https://localhost:8080/",
          "height": 483
        },
        "id": "9Mv4TXnpQMba",
        "outputId": "e8558b10-703f-4f1f-9830-fe75a833e840"
      },
      "source": [
        "plt.figure(figsize = (15, 8))\n",
        "plt.hist(temp_data[\"val\"].values, bins = 50)\n",
        "plt.show()"
      ],
      "execution_count": 139,
      "outputs": [
        {
          "output_type": "display_data",
          "data": {
            "image/png": "[encoded data removed]",
            "text/plain": [
              "<Figure size 1080x576 with 1 Axes>"
            ]
          },
          "metadata": {
            "tags": [],
            "needs_background": "light"
          }
        }
      ]
    },
    {
      "cell_type": "markdown",
      "metadata": {
        "id": "tAgDA_VaRNUQ"
      },
      "source": [
        "The data is normally distributed with mean 23 and std 2.99."
      ]
    },
    {
      "cell_type": "code",
      "metadata": {
        "id": "ibBwm0wgQ28c"
      },
      "source": [
        ""
      ],
      "execution_count": null,
      "outputs": []
    },
    {
      "cell_type": "markdown",
      "metadata": {
        "id": "Ml4DPiqxSuSq"
      },
      "source": [
        "## Section 3\n",
        "\n",
        "Pandas fillna method is the only way I know to impute null values and it is fast."
      ]
    },
    {
      "cell_type": "markdown",
      "metadata": {
        "id": "PyD--tHySyws"
      },
      "source": [
        "\n",
        "\n",
        "## Section 4\n",
        "\n",
        "Python has a library called threading and it has a function called Timer that allows people to write a script for this purpose. "
      ]
    },
    {
      "cell_type": "markdown",
      "metadata": {
        "id": "uGkss8tlSys5"
      },
      "source": [
        "\n",
        "\n",
        "## Section 5\n",
        "\n",
        "The math professors at Oregon State University are my favorite Mathematicians. They have a great impact on my life.\n",
        "1.   Prof. Ossiander, my undergraduate advisor and Probability professor, and Prof. Peszynska, who taught me Advanced Calculus, helped me be a better problem solver. They both assigned tremendous difficult problems each week. After surviving their classes, I believe practics make things perfect.\n",
        "2.   Prof. Fardani, my MS thesis advisor and Numerical Analysis professor, sparked my interest in Applied Mathematics. He always had good and interesting Matlab simulations to explain complex subjects. Recently, he wrote a simple Matlab program to illustrate how Covid-19 spread.\n",
        "\n"
      ]
    }
  ]
}