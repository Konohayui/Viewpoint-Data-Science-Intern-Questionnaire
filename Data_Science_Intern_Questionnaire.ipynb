{
  "nbformat": 4,
  "nbformat_minor": 0,
  "metadata": {
    "colab": {
      "name": "Data Science Intern Questionnaire.ipynb",
      "provenance": [],
      "authorship_tag": "ABX9TyOofzNMVbdf0YYxoPdPYisG"
    },
    "kernelspec": {
      "name": "python3",
      "display_name": "Python 3"
    }
  },
  "cells": [
    {
      "cell_type": "markdown",
      "metadata": {
        "id": "suhOcjIlVJj0"
      },
      "source": [
        "## Setup"
      ]
    },
    {
      "cell_type": "code",
      "metadata": {
        "id": "ZmFIV2rubTGU"
      },
      "source": [
        "import sqlite3, pandas as pd, numpy as np, matplotlib.pyplot as plt"
      ],
      "execution_count": 1,
      "outputs": []
    },
    {
      "cell_type": "markdown",
      "metadata": {
        "id": "M04UbClcVcif"
      },
      "source": [
        "## Create Data"
      ]
    },
    {
      "cell_type": "code",
      "metadata": {
        "id": "4eDIF_0eVaKg"
      },
      "source": [
        "conn = sqlite3.connect(\"example.db\")\n",
        "\n",
        "conn.execute('''\n",
        "CREATE TABLE IF NOT EXISTS name_table(StudentID TEXT PRIMARY KEY, Name TEXT);''')\n",
        "\n",
        "conn.commit()"
      ],
      "execution_count": 2,
      "outputs": []
    },
    {
      "cell_type": "code",
      "metadata": {
        "id": "-9A2E8mebzDB"
      },
      "source": [
        "conn = sqlite3.connect(\"example.db\")\n",
        "\n",
        "conn.execute(\"INSERT INTO name_table VALUES('V001', 'Abe');\")\n",
        "conn.execute(\"INSERT INTO name_table VALUES('V002', 'Abhay');\")\n",
        "conn.execute(\"INSERT INTO name_table VALUES('V003', 'Acelin');\")\n",
        "conn.execute(\"INSERT INTO name_table VALUES('V004', 'Adelphos');\")\n",
        "\n",
        "conn.commit()"
      ],
      "execution_count": 3,
      "outputs": []
    },
    {
      "cell_type": "code",
      "metadata": {
        "colab": {
          "base_uri": "https://localhost:8080/"
        },
        "id": "0QWcD_TKdgkI",
        "outputId": "b46611d4-272c-4fbe-8e0f-aa8f9b5c7ea1"
      },
      "source": [
        "for i in conn.execute('''Select * From name_table'''):\n",
        "  print(i)"
      ],
      "execution_count": 4,
      "outputs": [
        {
          "output_type": "stream",
          "text": [
            "('V001', 'Abe')\n",
            "('V002', 'Abhay')\n",
            "('V003', 'Acelin')\n",
            "('V004', 'Adelphos')\n"
          ],
          "name": "stdout"
        }
      ]
    },
    {
      "cell_type": "code",
      "metadata": {
        "id": "JLQIz4nr1XFX"
      },
      "source": [
        "conn.execute('''\n",
        "CREATE TABLE IF NOT EXISTS mark_table(StudentID TEXT PRIMARY KEY, Total_marks INTEGER);''')\n",
        "\n",
        "conn.commit()"
      ],
      "execution_count": 5,
      "outputs": []
    },
    {
      "cell_type": "code",
      "metadata": {
        "id": "TC_koCAM1qpF"
      },
      "source": [
        "conn.execute(\"INSERT INTO mark_table VALUES('V001', 95);\")\n",
        "conn.execute(\"INSERT INTO mark_table VALUES('V002', 80);\")\n",
        "conn.execute(\"INSERT INTO mark_table VALUES('V003', 74);\")\n",
        "conn.execute(\"INSERT INTO mark_table VALUES('V004', 81);\")\n",
        "\n",
        "conn.commit()"
      ],
      "execution_count": 6,
      "outputs": []
    },
    {
      "cell_type": "code",
      "metadata": {
        "colab": {
          "base_uri": "https://localhost:8080/"
        },
        "id": "zgcPz56V1zCT",
        "outputId": "d2d51cf0-6eb0-41f0-b9a2-f9e2f0287604"
      },
      "source": [
        "for i in conn.execute('''Select * From mark_table'''):\n",
        "  print(i)"
      ],
      "execution_count": 7,
      "outputs": [
        {
          "output_type": "stream",
          "text": [
            "('V001', 95)\n",
            "('V002', 80)\n",
            "('V003', 74)\n",
            "('V004', 81)\n"
          ],
          "name": "stdout"
        }
      ]
    },
    {
      "cell_type": "markdown",
      "metadata": {
        "id": "SdTQlRa-21dE"
      },
      "source": [
        "## Section 1"
      ]
    },
    {
      "cell_type": "markdown",
      "metadata": {
        "id": "B3BAqJh9-82G"
      },
      "source": [
        "### Q1"
      ]
    },
    {
      "cell_type": "code",
      "metadata": {
        "colab": {
          "base_uri": "https://localhost:8080/"
        },
        "id": "aRFS4wyE2yb_",
        "outputId": "13a43667-81a7-4017-e12c-1e8276a09dde"
      },
      "source": [
        "query = '''Select nt.StudentID, nt.Name From name_table nt\n",
        "      Where nt.StudentID IN \n",
        "      (Select mt.StudentID From Mark_table mt\n",
        "      Where mt.Total_marks > (Select Total_marks From Mark_table Where StudentID == 'V002'));'''\n",
        "\n",
        "for e in conn.execute(query):\n",
        "  print(e)"
      ],
      "execution_count": 8,
      "outputs": [
        {
          "output_type": "stream",
          "text": [
            "('V001', 'Abe')\n",
            "('V004', 'Adelphos')\n"
          ],
          "name": "stdout"
        }
      ]
    },
    {
      "cell_type": "markdown",
      "metadata": {
        "id": "1JKfmnnS_AWn"
      },
      "source": [
        "### Q2"
      ]
    },
    {
      "cell_type": "code",
      "metadata": {
        "id": "qm6y8xAE-7c2"
      },
      "source": [
        "name_table = pd.read_sql_query(\"Select * From name_table\", conn)"
      ],
      "execution_count": 9,
      "outputs": []
    },
    {
      "cell_type": "code",
      "metadata": {
        "colab": {
          "base_uri": "https://localhost:8080/",
          "height": 173
        },
        "id": "mN3yzEahAlJJ",
        "outputId": "84a21c70-53e6-4b03-9873-d6aae85fbae7"
      },
      "source": [
        "name_table.head()"
      ],
      "execution_count": 10,
      "outputs": [
        {
          "output_type": "execute_result",
          "data": {
            "text/html": [
              "<div>\n",
              "<style scoped>\n",
              "    .dataframe tbody tr th:only-of-type {\n",
              "        vertical-align: middle;\n",
              "    }\n",
              "\n",
              "    .dataframe tbody tr th {\n",
              "        vertical-align: top;\n",
              "    }\n",
              "\n",
              "    .dataframe thead th {\n",
              "        text-align: right;\n",
              "    }\n",
              "</style>\n",
              "<table border=\"1\" class=\"dataframe\">\n",
              "  <thead>\n",
              "    <tr style=\"text-align: right;\">\n",
              "      <th></th>\n",
              "      <th>StudentID</th>\n",
              "      <th>Name</th>\n",
              "    </tr>\n",
              "  </thead>\n",
              "  <tbody>\n",
              "    <tr>\n",
              "      <th>0</th>\n",
              "      <td>V001</td>\n",
              "      <td>Abe</td>\n",
              "    </tr>\n",
              "    <tr>\n",
              "      <th>1</th>\n",
              "      <td>V002</td>\n",
              "      <td>Abhay</td>\n",
              "    </tr>\n",
              "    <tr>\n",
              "      <th>2</th>\n",
              "      <td>V003</td>\n",
              "      <td>Acelin</td>\n",
              "    </tr>\n",
              "    <tr>\n",
              "      <th>3</th>\n",
              "      <td>V004</td>\n",
              "      <td>Adelphos</td>\n",
              "    </tr>\n",
              "  </tbody>\n",
              "</table>\n",
              "</div>"
            ],
            "text/plain": [
              "  StudentID      Name\n",
              "0      V001       Abe\n",
              "1      V002     Abhay\n",
              "2      V003    Acelin\n",
              "3      V004  Adelphos"
            ]
          },
          "metadata": {
            "tags": []
          },
          "execution_count": 10
        }
      ]
    },
    {
      "cell_type": "code",
      "metadata": {
        "id": "XTx5VjijAoVg"
      },
      "source": [
        "mark_table = pd.read_sql_query(\"Select * From mark_table\", conn)"
      ],
      "execution_count": 11,
      "outputs": []
    },
    {
      "cell_type": "code",
      "metadata": {
        "colab": {
          "base_uri": "https://localhost:8080/",
          "height": 173
        },
        "id": "RYe1VphvArEt",
        "outputId": "0e87e7ea-f7d2-4972-c524-dbcfcbeabe9e"
      },
      "source": [
        "mark_table"
      ],
      "execution_count": 12,
      "outputs": [
        {
          "output_type": "execute_result",
          "data": {
            "text/html": [
              "<div>\n",
              "<style scoped>\n",
              "    .dataframe tbody tr th:only-of-type {\n",
              "        vertical-align: middle;\n",
              "    }\n",
              "\n",
              "    .dataframe tbody tr th {\n",
              "        vertical-align: top;\n",
              "    }\n",
              "\n",
              "    .dataframe thead th {\n",
              "        text-align: right;\n",
              "    }\n",
              "</style>\n",
              "<table border=\"1\" class=\"dataframe\">\n",
              "  <thead>\n",
              "    <tr style=\"text-align: right;\">\n",
              "      <th></th>\n",
              "      <th>StudentID</th>\n",
              "      <th>Total_marks</th>\n",
              "    </tr>\n",
              "  </thead>\n",
              "  <tbody>\n",
              "    <tr>\n",
              "      <th>0</th>\n",
              "      <td>V001</td>\n",
              "      <td>95</td>\n",
              "    </tr>\n",
              "    <tr>\n",
              "      <th>1</th>\n",
              "      <td>V002</td>\n",
              "      <td>80</td>\n",
              "    </tr>\n",
              "    <tr>\n",
              "      <th>2</th>\n",
              "      <td>V003</td>\n",
              "      <td>74</td>\n",
              "    </tr>\n",
              "    <tr>\n",
              "      <th>3</th>\n",
              "      <td>V004</td>\n",
              "      <td>81</td>\n",
              "    </tr>\n",
              "  </tbody>\n",
              "</table>\n",
              "</div>"
            ],
            "text/plain": [
              "  StudentID  Total_marks\n",
              "0      V001           95\n",
              "1      V002           80\n",
              "2      V003           74\n",
              "3      V004           81"
            ]
          },
          "metadata": {
            "tags": []
          },
          "execution_count": 12
        }
      ]
    },
    {
      "cell_type": "code",
      "metadata": {
        "id": "WhaoL8JNAs3u"
      },
      "source": [
        "def chnage_letter_case(df, col_name):\n",
        "  df[col_name] = df[col_name].apply(lambda x: x.upper() if (\"e\" in x) or (\"E\" in x) else x.lower())\n",
        "\n",
        "  return df"
      ],
      "execution_count": 13,
      "outputs": []
    },
    {
      "cell_type": "code",
      "metadata": {
        "colab": {
          "base_uri": "https://localhost:8080/",
          "height": 173
        },
        "id": "a48qaDEWC7B7",
        "outputId": "40578907-3ea5-44f5-a96c-d987fd3b890c"
      },
      "source": [
        "chnage_letter_case(name_table.copy(), \"Name\")"
      ],
      "execution_count": 14,
      "outputs": [
        {
          "output_type": "execute_result",
          "data": {
            "text/html": [
              "<div>\n",
              "<style scoped>\n",
              "    .dataframe tbody tr th:only-of-type {\n",
              "        vertical-align: middle;\n",
              "    }\n",
              "\n",
              "    .dataframe tbody tr th {\n",
              "        vertical-align: top;\n",
              "    }\n",
              "\n",
              "    .dataframe thead th {\n",
              "        text-align: right;\n",
              "    }\n",
              "</style>\n",
              "<table border=\"1\" class=\"dataframe\">\n",
              "  <thead>\n",
              "    <tr style=\"text-align: right;\">\n",
              "      <th></th>\n",
              "      <th>StudentID</th>\n",
              "      <th>Name</th>\n",
              "    </tr>\n",
              "  </thead>\n",
              "  <tbody>\n",
              "    <tr>\n",
              "      <th>0</th>\n",
              "      <td>V001</td>\n",
              "      <td>ABE</td>\n",
              "    </tr>\n",
              "    <tr>\n",
              "      <th>1</th>\n",
              "      <td>V002</td>\n",
              "      <td>abhay</td>\n",
              "    </tr>\n",
              "    <tr>\n",
              "      <th>2</th>\n",
              "      <td>V003</td>\n",
              "      <td>ACELIN</td>\n",
              "    </tr>\n",
              "    <tr>\n",
              "      <th>3</th>\n",
              "      <td>V004</td>\n",
              "      <td>ADELPHOS</td>\n",
              "    </tr>\n",
              "  </tbody>\n",
              "</table>\n",
              "</div>"
            ],
            "text/plain": [
              "  StudentID      Name\n",
              "0      V001       ABE\n",
              "1      V002     abhay\n",
              "2      V003    ACELIN\n",
              "3      V004  ADELPHOS"
            ]
          },
          "metadata": {
            "tags": []
          },
          "execution_count": 14
        }
      ]
    },
    {
      "cell_type": "markdown",
      "metadata": {
        "id": "cEzziKfTKZiS"
      },
      "source": [
        "### Q3"
      ]
    },
    {
      "cell_type": "code",
      "metadata": {
        "id": "Uq32A4SYKW93"
      },
      "source": [
        "def avg_by_case(df1, df2, col_name1, col_name2):\n",
        "  df1 = chnage_letter_case(df1, col_name1)\n",
        "  df1[\"upper_case\"] = df1[col_name1].str.isupper()\n",
        "  new_df = pd.merge(df1, df2, on=col_name2)\n",
        "  print(new_df)\n",
        "  \n",
        "  return new_df.groupby(\"upper_case\").mean()"
      ],
      "execution_count": 15,
      "outputs": []
    },
    {
      "cell_type": "code",
      "metadata": {
        "colab": {
          "base_uri": "https://localhost:8080/",
          "height": 232
        },
        "id": "lNcnwQN9MR2A",
        "outputId": "632e1a03-3c68-44d4-839c-aff3039f05d9"
      },
      "source": [
        "avg_by_case(name_table.copy(), mark_table.copy(), \"Name\", \"StudentID\")"
      ],
      "execution_count": 16,
      "outputs": [
        {
          "output_type": "stream",
          "text": [
            "  StudentID      Name  upper_case  Total_marks\n",
            "0      V001       ABE        True           95\n",
            "1      V002     abhay       False           80\n",
            "2      V003    ACELIN        True           74\n",
            "3      V004  ADELPHOS        True           81\n"
          ],
          "name": "stdout"
        },
        {
          "output_type": "execute_result",
          "data": {
            "text/html": [
              "<div>\n",
              "<style scoped>\n",
              "    .dataframe tbody tr th:only-of-type {\n",
              "        vertical-align: middle;\n",
              "    }\n",
              "\n",
              "    .dataframe tbody tr th {\n",
              "        vertical-align: top;\n",
              "    }\n",
              "\n",
              "    .dataframe thead th {\n",
              "        text-align: right;\n",
              "    }\n",
              "</style>\n",
              "<table border=\"1\" class=\"dataframe\">\n",
              "  <thead>\n",
              "    <tr style=\"text-align: right;\">\n",
              "      <th></th>\n",
              "      <th>Total_marks</th>\n",
              "    </tr>\n",
              "    <tr>\n",
              "      <th>upper_case</th>\n",
              "      <th></th>\n",
              "    </tr>\n",
              "  </thead>\n",
              "  <tbody>\n",
              "    <tr>\n",
              "      <th>False</th>\n",
              "      <td>80.000000</td>\n",
              "    </tr>\n",
              "    <tr>\n",
              "      <th>True</th>\n",
              "      <td>83.333333</td>\n",
              "    </tr>\n",
              "  </tbody>\n",
              "</table>\n",
              "</div>"
            ],
            "text/plain": [
              "            Total_marks\n",
              "upper_case             \n",
              "False         80.000000\n",
              "True          83.333333"
            ]
          },
          "metadata": {
            "tags": []
          },
          "execution_count": 16
        }
      ]
    },
    {
      "cell_type": "markdown",
      "metadata": {
        "id": "D1QWRlKSONAP"
      },
      "source": [
        "## Section 2"
      ]
    },
    {
      "cell_type": "markdown",
      "metadata": {
        "id": "dAAG0JycOS3j"
      },
      "source": [
        "### Q1"
      ]
    },
    {
      "cell_type": "code",
      "metadata": {
        "colab": {
          "base_uri": "https://localhost:8080/"
        },
        "id": "Z1NI6AUOlrHc",
        "outputId": "f514e725-3970-443f-919e-13989b5021a6"
      },
      "source": [
        "!curl https://raw.githubusercontent.com/helloworlddata/white-house-salaries/master/data/converted/2017.csv > 2017.csv"
      ],
      "execution_count": 17,
      "outputs": [
        {
          "output_type": "stream",
          "text": [
            "  % Total    % Received % Xferd  Average Speed   Time    Time     Time  Current\n",
            "                                 Dload  Upload   Total   Spent    Left  Speed\n",
            "100 36974  100 36974    0     0  85390      0 --:--:-- --:--:-- --:--:-- 85390\n"
          ],
          "name": "stdout"
        }
      ]
    },
    {
      "cell_type": "code",
      "metadata": {
        "colab": {
          "base_uri": "https://localhost:8080/",
          "height": 204
        },
        "id": "JX3UYIEz3JAi",
        "outputId": "d6012072-7bff-4a0c-b6ad-a074cdc1d2d9"
      },
      "source": [
        "whitehouse_salary = pd.read_csv(\"2017.csv\")\n",
        "whitehouse_salary.head()"
      ],
      "execution_count": 18,
      "outputs": [
        {
          "output_type": "execute_result",
          "data": {
            "text/html": [
              "<div>\n",
              "<style scoped>\n",
              "    .dataframe tbody tr th:only-of-type {\n",
              "        vertical-align: middle;\n",
              "    }\n",
              "\n",
              "    .dataframe tbody tr th {\n",
              "        vertical-align: top;\n",
              "    }\n",
              "\n",
              "    .dataframe thead th {\n",
              "        text-align: right;\n",
              "    }\n",
              "</style>\n",
              "<table border=\"1\" class=\"dataframe\">\n",
              "  <thead>\n",
              "    <tr style=\"text-align: right;\">\n",
              "      <th></th>\n",
              "      <th>NAME</th>\n",
              "      <th>STATUS</th>\n",
              "      <th>SALARY</th>\n",
              "      <th>PAY BASIS</th>\n",
              "      <th>POSITION TITLE</th>\n",
              "    </tr>\n",
              "  </thead>\n",
              "  <tbody>\n",
              "    <tr>\n",
              "      <th>0</th>\n",
              "      <td>Alexander, Monica K.</td>\n",
              "      <td>Employee</td>\n",
              "      <td>$56,000.00</td>\n",
              "      <td>Per Annum</td>\n",
              "      <td>EXECUTIVE ASSISTANT</td>\n",
              "    </tr>\n",
              "    <tr>\n",
              "      <th>1</th>\n",
              "      <td>Ambrosini, Michael J.</td>\n",
              "      <td>Employee</td>\n",
              "      <td>$95,000.00</td>\n",
              "      <td>Per Annum</td>\n",
              "      <td>SPECIAL ASSISTANT TO THE PRESIDENT AND DIRECTO...</td>\n",
              "    </tr>\n",
              "    <tr>\n",
              "      <th>2</th>\n",
              "      <td>Amin, Stacy C.</td>\n",
              "      <td>Employee</td>\n",
              "      <td>$140,000.00</td>\n",
              "      <td>Per Annum</td>\n",
              "      <td>SPECIAL ASSISTANT TO THE PRESIDENT AND ASSOCIA...</td>\n",
              "    </tr>\n",
              "    <tr>\n",
              "      <th>3</th>\n",
              "      <td>Andersen, Whitney N.</td>\n",
              "      <td>Employee</td>\n",
              "      <td>$94,000.00</td>\n",
              "      <td>Per Annum</td>\n",
              "      <td>DEPUTY DIRECTOR OF OPERATIONS FOR THE WHITE HO...</td>\n",
              "    </tr>\n",
              "    <tr>\n",
              "      <th>4</th>\n",
              "      <td>Anderson, Alexander J.</td>\n",
              "      <td>Employee</td>\n",
              "      <td>$77,000.00</td>\n",
              "      <td>Per Annum</td>\n",
              "      <td>DIRECTOR OF DIGITAL ENGAGEMENT</td>\n",
              "    </tr>\n",
              "  </tbody>\n",
              "</table>\n",
              "</div>"
            ],
            "text/plain": [
              "                     NAME  ...                                     POSITION TITLE\n",
              "0    Alexander, Monica K.  ...                                EXECUTIVE ASSISTANT\n",
              "1   Ambrosini, Michael J.  ...  SPECIAL ASSISTANT TO THE PRESIDENT AND DIRECTO...\n",
              "2          Amin, Stacy C.  ...  SPECIAL ASSISTANT TO THE PRESIDENT AND ASSOCIA...\n",
              "3    Andersen, Whitney N.  ...  DEPUTY DIRECTOR OF OPERATIONS FOR THE WHITE HO...\n",
              "4  Anderson, Alexander J.  ...                     DIRECTOR OF DIGITAL ENGAGEMENT\n",
              "\n",
              "[5 rows x 5 columns]"
            ]
          },
          "metadata": {
            "tags": []
          },
          "execution_count": 18
        }
      ]
    },
    {
      "cell_type": "code",
      "metadata": {
        "colab": {
          "base_uri": "https://localhost:8080/",
          "height": 173
        },
        "id": "LIbI_Lvy5kiq",
        "outputId": "2f973a41-1cb3-4597-a06b-e537f636dcaf"
      },
      "source": [
        "whitehouse_salary.describe() # use pandas describe to summarize the dataset"
      ],
      "execution_count": 19,
      "outputs": [
        {
          "output_type": "execute_result",
          "data": {
            "text/html": [
              "<div>\n",
              "<style scoped>\n",
              "    .dataframe tbody tr th:only-of-type {\n",
              "        vertical-align: middle;\n",
              "    }\n",
              "\n",
              "    .dataframe tbody tr th {\n",
              "        vertical-align: top;\n",
              "    }\n",
              "\n",
              "    .dataframe thead th {\n",
              "        text-align: right;\n",
              "    }\n",
              "</style>\n",
              "<table border=\"1\" class=\"dataframe\">\n",
              "  <thead>\n",
              "    <tr style=\"text-align: right;\">\n",
              "      <th></th>\n",
              "      <th>NAME</th>\n",
              "      <th>STATUS</th>\n",
              "      <th>SALARY</th>\n",
              "      <th>PAY BASIS</th>\n",
              "      <th>POSITION TITLE</th>\n",
              "    </tr>\n",
              "  </thead>\n",
              "  <tbody>\n",
              "    <tr>\n",
              "      <th>count</th>\n",
              "      <td>377</td>\n",
              "      <td>377</td>\n",
              "      <td>377</td>\n",
              "      <td>377</td>\n",
              "      <td>375</td>\n",
              "    </tr>\n",
              "    <tr>\n",
              "      <th>unique</th>\n",
              "      <td>377</td>\n",
              "      <td>2</td>\n",
              "      <td>74</td>\n",
              "      <td>3</td>\n",
              "      <td>214</td>\n",
              "    </tr>\n",
              "    <tr>\n",
              "      <th>top</th>\n",
              "      <td>Luna, Nicholas F.</td>\n",
              "      <td>Employee</td>\n",
              "      <td>$115,000.00</td>\n",
              "      <td>Per Annum</td>\n",
              "      <td>EXECUTIVE ASSISTANT</td>\n",
              "    </tr>\n",
              "    <tr>\n",
              "      <th>freq</th>\n",
              "      <td>1</td>\n",
              "      <td>359</td>\n",
              "      <td>46</td>\n",
              "      <td>375</td>\n",
              "      <td>20</td>\n",
              "    </tr>\n",
              "  </tbody>\n",
              "</table>\n",
              "</div>"
            ],
            "text/plain": [
              "                     NAME    STATUS  ...  PAY BASIS       POSITION TITLE\n",
              "count                 377       377  ...        377                  375\n",
              "unique                377         2  ...          3                  214\n",
              "top     Luna, Nicholas F.  Employee  ...  Per Annum  EXECUTIVE ASSISTANT\n",
              "freq                    1       359  ...        375                   20\n",
              "\n",
              "[4 rows x 5 columns]"
            ]
          },
          "metadata": {
            "tags": []
          },
          "execution_count": 19
        }
      ]
    },
    {
      "cell_type": "markdown",
      "metadata": {
        "id": "GnaSQFZ-EXcj"
      },
      "source": [
        "#### Check null and Impute null "
      ]
    },
    {
      "cell_type": "code",
      "metadata": {
        "colab": {
          "base_uri": "https://localhost:8080/"
        },
        "id": "r_Kl47iw5y8g",
        "outputId": "58d5efcc-a90e-475d-ad4b-e8fef5166dc1"
      },
      "source": [
        "whitehouse_salary.isna().sum() # check null values if there are too many, I choose to drop them"
      ],
      "execution_count": 20,
      "outputs": [
        {
          "output_type": "execute_result",
          "data": {
            "text/plain": [
              "NAME              0\n",
              "STATUS            0\n",
              "SALARY            0\n",
              "PAY BASIS         0\n",
              "POSITION TITLE    2\n",
              "dtype: int64"
            ]
          },
          "metadata": {
            "tags": []
          },
          "execution_count": 20
        }
      ]
    },
    {
      "cell_type": "code",
      "metadata": {
        "colab": {
          "base_uri": "https://localhost:8080/",
          "height": 111
        },
        "id": "TShY2d7e699Q",
        "outputId": "99b9c1a5-3fd5-49b3-fd0e-4056a489d772"
      },
      "source": [
        "whitehouse_salary[whitehouse_salary[\"POSITION TITLE\"].isna()]"
      ],
      "execution_count": 21,
      "outputs": [
        {
          "output_type": "execute_result",
          "data": {
            "text/html": [
              "<div>\n",
              "<style scoped>\n",
              "    .dataframe tbody tr th:only-of-type {\n",
              "        vertical-align: middle;\n",
              "    }\n",
              "\n",
              "    .dataframe tbody tr th {\n",
              "        vertical-align: top;\n",
              "    }\n",
              "\n",
              "    .dataframe thead th {\n",
              "        text-align: right;\n",
              "    }\n",
              "</style>\n",
              "<table border=\"1\" class=\"dataframe\">\n",
              "  <thead>\n",
              "    <tr style=\"text-align: right;\">\n",
              "      <th></th>\n",
              "      <th>NAME</th>\n",
              "      <th>STATUS</th>\n",
              "      <th>SALARY</th>\n",
              "      <th>PAY BASIS</th>\n",
              "      <th>POSITION TITLE</th>\n",
              "    </tr>\n",
              "  </thead>\n",
              "  <tbody>\n",
              "    <tr>\n",
              "      <th>250</th>\n",
              "      <td>Mullen, Courtney E.</td>\n",
              "      <td>Employee</td>\n",
              "      <td>$94,000.00</td>\n",
              "      <td>Per Annum SPECIAL ASSISTANT</td>\n",
              "      <td>NaN</td>\n",
              "    </tr>\n",
              "    <tr>\n",
              "      <th>350</th>\n",
              "      <td>Trainor, Gregory T.</td>\n",
              "      <td>Employee</td>\n",
              "      <td>$76,685.00</td>\n",
              "      <td>Per Annum DIRECTOR OF SPECIAL PROJECTS FOR COR...</td>\n",
              "      <td>NaN</td>\n",
              "    </tr>\n",
              "  </tbody>\n",
              "</table>\n",
              "</div>"
            ],
            "text/plain": [
              "                    NAME  ... POSITION TITLE\n",
              "250  Mullen, Courtney E.  ...            NaN\n",
              "350  Trainor, Gregory T.  ...            NaN\n",
              "\n",
              "[2 rows x 5 columns]"
            ]
          },
          "metadata": {
            "tags": []
          },
          "execution_count": 21
        }
      ]
    },
    {
      "cell_type": "code",
      "metadata": {
        "id": "qFY-8-5I89TI"
      },
      "source": [
        "position = whitehouse_salary.iloc[[250,350]][\"PAY BASIS\"].str.slice(len(\"Per Annum\"))"
      ],
      "execution_count": 22,
      "outputs": []
    },
    {
      "cell_type": "code",
      "metadata": {
        "colab": {
          "base_uri": "https://localhost:8080/"
        },
        "id": "l4oTwUkCAKXs",
        "outputId": "f3b250e1-ef50-4982-aed8-7009e0e5639f"
      },
      "source": [
        "position"
      ],
      "execution_count": 23,
      "outputs": [
        {
          "output_type": "execute_result",
          "data": {
            "text/plain": [
              "250                                   SPECIAL ASSISTANT\n",
              "350     DIRECTOR OF SPECIAL PROJECTS FOR CORRESPONDENCE\n",
              "Name: PAY BASIS, dtype: object"
            ]
          },
          "metadata": {
            "tags": []
          },
          "execution_count": 23
        }
      ]
    },
    {
      "cell_type": "code",
      "metadata": {
        "id": "CJK7o5KvCRtd"
      },
      "source": [
        "whitehouse_salary.loc[[250,350],\"PAY BASIS\"] = \"Per Annum\"\n",
        "whitehouse_salary.loc[[250,350],\"POSITION TITLE\"] = position"
      ],
      "execution_count": 24,
      "outputs": []
    },
    {
      "cell_type": "code",
      "metadata": {
        "colab": {
          "base_uri": "https://localhost:8080/",
          "height": 111
        },
        "id": "olrvnFSACczW",
        "outputId": "0fc0bf57-4aed-4b26-f997-6d6bd57d3676"
      },
      "source": [
        "whitehouse_salary.iloc[[250,350],:]"
      ],
      "execution_count": 25,
      "outputs": [
        {
          "output_type": "execute_result",
          "data": {
            "text/html": [
              "<div>\n",
              "<style scoped>\n",
              "    .dataframe tbody tr th:only-of-type {\n",
              "        vertical-align: middle;\n",
              "    }\n",
              "\n",
              "    .dataframe tbody tr th {\n",
              "        vertical-align: top;\n",
              "    }\n",
              "\n",
              "    .dataframe thead th {\n",
              "        text-align: right;\n",
              "    }\n",
              "</style>\n",
              "<table border=\"1\" class=\"dataframe\">\n",
              "  <thead>\n",
              "    <tr style=\"text-align: right;\">\n",
              "      <th></th>\n",
              "      <th>NAME</th>\n",
              "      <th>STATUS</th>\n",
              "      <th>SALARY</th>\n",
              "      <th>PAY BASIS</th>\n",
              "      <th>POSITION TITLE</th>\n",
              "    </tr>\n",
              "  </thead>\n",
              "  <tbody>\n",
              "    <tr>\n",
              "      <th>250</th>\n",
              "      <td>Mullen, Courtney E.</td>\n",
              "      <td>Employee</td>\n",
              "      <td>$94,000.00</td>\n",
              "      <td>Per Annum</td>\n",
              "      <td>SPECIAL ASSISTANT</td>\n",
              "    </tr>\n",
              "    <tr>\n",
              "      <th>350</th>\n",
              "      <td>Trainor, Gregory T.</td>\n",
              "      <td>Employee</td>\n",
              "      <td>$76,685.00</td>\n",
              "      <td>Per Annum</td>\n",
              "      <td>DIRECTOR OF SPECIAL PROJECTS FOR CORRESPONDENCE</td>\n",
              "    </tr>\n",
              "  </tbody>\n",
              "</table>\n",
              "</div>"
            ],
            "text/plain": [
              "                    NAME  ...                                    POSITION TITLE\n",
              "250  Mullen, Courtney E.  ...                                 SPECIAL ASSISTANT\n",
              "350  Trainor, Gregory T.  ...   DIRECTOR OF SPECIAL PROJECTS FOR CORRESPONDENCE\n",
              "\n",
              "[2 rows x 5 columns]"
            ]
          },
          "metadata": {
            "tags": []
          },
          "execution_count": 25
        }
      ]
    },
    {
      "cell_type": "code",
      "metadata": {
        "colab": {
          "base_uri": "https://localhost:8080/",
          "height": 173
        },
        "id": "EeJniIslDJzi",
        "outputId": "4bb63723-35a4-4f91-d450-006c33d229c8"
      },
      "source": [
        "whitehouse_salary.describe() # chack the data"
      ],
      "execution_count": 26,
      "outputs": [
        {
          "output_type": "execute_result",
          "data": {
            "text/html": [
              "<div>\n",
              "<style scoped>\n",
              "    .dataframe tbody tr th:only-of-type {\n",
              "        vertical-align: middle;\n",
              "    }\n",
              "\n",
              "    .dataframe tbody tr th {\n",
              "        vertical-align: top;\n",
              "    }\n",
              "\n",
              "    .dataframe thead th {\n",
              "        text-align: right;\n",
              "    }\n",
              "</style>\n",
              "<table border=\"1\" class=\"dataframe\">\n",
              "  <thead>\n",
              "    <tr style=\"text-align: right;\">\n",
              "      <th></th>\n",
              "      <th>NAME</th>\n",
              "      <th>STATUS</th>\n",
              "      <th>SALARY</th>\n",
              "      <th>PAY BASIS</th>\n",
              "      <th>POSITION TITLE</th>\n",
              "    </tr>\n",
              "  </thead>\n",
              "  <tbody>\n",
              "    <tr>\n",
              "      <th>count</th>\n",
              "      <td>377</td>\n",
              "      <td>377</td>\n",
              "      <td>377</td>\n",
              "      <td>377</td>\n",
              "      <td>377</td>\n",
              "    </tr>\n",
              "    <tr>\n",
              "      <th>unique</th>\n",
              "      <td>377</td>\n",
              "      <td>2</td>\n",
              "      <td>74</td>\n",
              "      <td>1</td>\n",
              "      <td>216</td>\n",
              "    </tr>\n",
              "    <tr>\n",
              "      <th>top</th>\n",
              "      <td>Luna, Nicholas F.</td>\n",
              "      <td>Employee</td>\n",
              "      <td>$115,000.00</td>\n",
              "      <td>Per Annum</td>\n",
              "      <td>EXECUTIVE ASSISTANT</td>\n",
              "    </tr>\n",
              "    <tr>\n",
              "      <th>freq</th>\n",
              "      <td>1</td>\n",
              "      <td>359</td>\n",
              "      <td>46</td>\n",
              "      <td>377</td>\n",
              "      <td>20</td>\n",
              "    </tr>\n",
              "  </tbody>\n",
              "</table>\n",
              "</div>"
            ],
            "text/plain": [
              "                     NAME    STATUS  ...  PAY BASIS       POSITION TITLE\n",
              "count                 377       377  ...        377                  377\n",
              "unique                377         2  ...          1                  216\n",
              "top     Luna, Nicholas F.  Employee  ...  Per Annum  EXECUTIVE ASSISTANT\n",
              "freq                    1       359  ...        377                   20\n",
              "\n",
              "[4 rows x 5 columns]"
            ]
          },
          "metadata": {
            "tags": []
          },
          "execution_count": 26
        }
      ]
    },
    {
      "cell_type": "markdown",
      "metadata": {
        "id": "ZyUFbNTEEfWn"
      },
      "source": [
        "#### Convert salary entries to numerical values "
      ]
    },
    {
      "cell_type": "code",
      "metadata": {
        "id": "mOYfAMW0Dc7U"
      },
      "source": [
        "whitehouse_salary[\"SALARY\"] = whitehouse_salary[\"SALARY\"].replace(\"[\\$,]\", \"\", regex = True).astype(float)"
      ],
      "execution_count": 27,
      "outputs": []
    },
    {
      "cell_type": "code",
      "metadata": {
        "colab": {
          "base_uri": "https://localhost:8080/"
        },
        "id": "Ecbzi9WyEEGW",
        "outputId": "38af3327-259f-4bbe-c42a-739b90abc398"
      },
      "source": [
        "whitehouse_salary[\"SALARY\"].head()"
      ],
      "execution_count": 28,
      "outputs": [
        {
          "output_type": "execute_result",
          "data": {
            "text/plain": [
              "0     56000.0\n",
              "1     95000.0\n",
              "2    140000.0\n",
              "3     94000.0\n",
              "4     77000.0\n",
              "Name: SALARY, dtype: float64"
            ]
          },
          "metadata": {
            "tags": []
          },
          "execution_count": 28
        }
      ]
    },
    {
      "cell_type": "markdown",
      "metadata": {
        "id": "k0a4eZT8Gi41"
      },
      "source": [
        "#### standardize salary and log transform salary"
      ]
    },
    {
      "cell_type": "code",
      "metadata": {
        "id": "mGhdN8xCE4Q_"
      },
      "source": [
        "whitehouse_salary[\"STD_SALARY\"] = (whitehouse_salary[\"SALARY\"] - whitehouse_salary[\"SALARY\"].mean())/whitehouse_salary[\"SALARY\"].std()\n",
        "whitehouse_salary[\"LOG_SALARY\"] = np.log(whitehouse_salary[\"SALARY\"]+1)"
      ],
      "execution_count": 29,
      "outputs": []
    },
    {
      "cell_type": "code",
      "metadata": {
        "colab": {
          "base_uri": "https://localhost:8080/",
          "height": 204
        },
        "id": "glqCHU7OGp1w",
        "outputId": "ea7e62ba-29cd-41b5-801b-285f28df090b"
      },
      "source": [
        "whitehouse_salary.head()"
      ],
      "execution_count": 30,
      "outputs": [
        {
          "output_type": "execute_result",
          "data": {
            "text/html": [
              "<div>\n",
              "<style scoped>\n",
              "    .dataframe tbody tr th:only-of-type {\n",
              "        vertical-align: middle;\n",
              "    }\n",
              "\n",
              "    .dataframe tbody tr th {\n",
              "        vertical-align: top;\n",
              "    }\n",
              "\n",
              "    .dataframe thead th {\n",
              "        text-align: right;\n",
              "    }\n",
              "</style>\n",
              "<table border=\"1\" class=\"dataframe\">\n",
              "  <thead>\n",
              "    <tr style=\"text-align: right;\">\n",
              "      <th></th>\n",
              "      <th>NAME</th>\n",
              "      <th>STATUS</th>\n",
              "      <th>SALARY</th>\n",
              "      <th>PAY BASIS</th>\n",
              "      <th>POSITION TITLE</th>\n",
              "      <th>STD_SALARY</th>\n",
              "      <th>LOG_SALARY</th>\n",
              "    </tr>\n",
              "  </thead>\n",
              "  <tbody>\n",
              "    <tr>\n",
              "      <th>0</th>\n",
              "      <td>Alexander, Monica K.</td>\n",
              "      <td>Employee</td>\n",
              "      <td>56000.0</td>\n",
              "      <td>Per Annum</td>\n",
              "      <td>EXECUTIVE ASSISTANT</td>\n",
              "      <td>-0.901644</td>\n",
              "      <td>10.933125</td>\n",
              "    </tr>\n",
              "    <tr>\n",
              "      <th>1</th>\n",
              "      <td>Ambrosini, Michael J.</td>\n",
              "      <td>Employee</td>\n",
              "      <td>95000.0</td>\n",
              "      <td>Per Annum</td>\n",
              "      <td>SPECIAL ASSISTANT TO THE PRESIDENT AND DIRECTO...</td>\n",
              "      <td>0.002969</td>\n",
              "      <td>11.461643</td>\n",
              "    </tr>\n",
              "    <tr>\n",
              "      <th>2</th>\n",
              "      <td>Amin, Stacy C.</td>\n",
              "      <td>Employee</td>\n",
              "      <td>140000.0</td>\n",
              "      <td>Per Annum</td>\n",
              "      <td>SPECIAL ASSISTANT TO THE PRESIDENT AND ASSOCIA...</td>\n",
              "      <td>1.046753</td>\n",
              "      <td>11.849405</td>\n",
              "    </tr>\n",
              "    <tr>\n",
              "      <th>3</th>\n",
              "      <td>Andersen, Whitney N.</td>\n",
              "      <td>Employee</td>\n",
              "      <td>94000.0</td>\n",
              "      <td>Per Annum</td>\n",
              "      <td>DEPUTY DIRECTOR OF OPERATIONS FOR THE WHITE HO...</td>\n",
              "      <td>-0.020226</td>\n",
              "      <td>11.451061</td>\n",
              "    </tr>\n",
              "    <tr>\n",
              "      <th>4</th>\n",
              "      <td>Anderson, Alexander J.</td>\n",
              "      <td>Employee</td>\n",
              "      <td>77000.0</td>\n",
              "      <td>Per Annum</td>\n",
              "      <td>DIRECTOR OF DIGITAL ENGAGEMENT</td>\n",
              "      <td>-0.414545</td>\n",
              "      <td>11.251574</td>\n",
              "    </tr>\n",
              "  </tbody>\n",
              "</table>\n",
              "</div>"
            ],
            "text/plain": [
              "                     NAME    STATUS  ...  STD_SALARY LOG_SALARY\n",
              "0    Alexander, Monica K.  Employee  ...   -0.901644  10.933125\n",
              "1   Ambrosini, Michael J.  Employee  ...    0.002969  11.461643\n",
              "2          Amin, Stacy C.  Employee  ...    1.046753  11.849405\n",
              "3    Andersen, Whitney N.  Employee  ...   -0.020226  11.451061\n",
              "4  Anderson, Alexander J.  Employee  ...   -0.414545  11.251574\n",
              "\n",
              "[5 rows x 7 columns]"
            ]
          },
          "metadata": {
            "tags": []
          },
          "execution_count": 30
        }
      ]
    },
    {
      "cell_type": "markdown",
      "metadata": {
        "id": "VNqLoI-jJdxE"
      },
      "source": [
        "#### Add position title frequency and position title average salary"
      ]
    },
    {
      "cell_type": "code",
      "metadata": {
        "id": "vod8OnqxIRyR"
      },
      "source": [
        "whitehouse_salary[\"POTITION TITLE FREQ\"] = whitehouse_salary[\"POSITION TITLE\"].map(whitehouse_salary[\"POSITION TITLE\"].value_counts())"
      ],
      "execution_count": 31,
      "outputs": []
    },
    {
      "cell_type": "code",
      "metadata": {
        "id": "PxeoJC9uKrtu"
      },
      "source": [
        "whitehouse_salary[\"POTITION TITLE AVG SALARY\"] = whitehouse_salary[\"POSITION TITLE\"].map(whitehouse_salary.groupby(\"POSITION TITLE\")[\"SALARY\"].mean())"
      ],
      "execution_count": 32,
      "outputs": []
    },
    {
      "cell_type": "code",
      "metadata": {
        "colab": {
          "base_uri": "https://localhost:8080/",
          "height": 204
        },
        "id": "hMNW3XkYLLbO",
        "outputId": "cbdb6a26-717f-4966-c78b-faa931049520"
      },
      "source": [
        "whitehouse_salary.head()"
      ],
      "execution_count": 33,
      "outputs": [
        {
          "output_type": "execute_result",
          "data": {
            "text/html": [
              "<div>\n",
              "<style scoped>\n",
              "    .dataframe tbody tr th:only-of-type {\n",
              "        vertical-align: middle;\n",
              "    }\n",
              "\n",
              "    .dataframe tbody tr th {\n",
              "        vertical-align: top;\n",
              "    }\n",
              "\n",
              "    .dataframe thead th {\n",
              "        text-align: right;\n",
              "    }\n",
              "</style>\n",
              "<table border=\"1\" class=\"dataframe\">\n",
              "  <thead>\n",
              "    <tr style=\"text-align: right;\">\n",
              "      <th></th>\n",
              "      <th>NAME</th>\n",
              "      <th>STATUS</th>\n",
              "      <th>SALARY</th>\n",
              "      <th>PAY BASIS</th>\n",
              "      <th>POSITION TITLE</th>\n",
              "      <th>STD_SALARY</th>\n",
              "      <th>LOG_SALARY</th>\n",
              "      <th>POTITION TITLE FREQ</th>\n",
              "      <th>POTITION TITLE AVG SALARY</th>\n",
              "    </tr>\n",
              "  </thead>\n",
              "  <tbody>\n",
              "    <tr>\n",
              "      <th>0</th>\n",
              "      <td>Alexander, Monica K.</td>\n",
              "      <td>Employee</td>\n",
              "      <td>56000.0</td>\n",
              "      <td>Per Annum</td>\n",
              "      <td>EXECUTIVE ASSISTANT</td>\n",
              "      <td>-0.901644</td>\n",
              "      <td>10.933125</td>\n",
              "      <td>20</td>\n",
              "      <td>57800.0</td>\n",
              "    </tr>\n",
              "    <tr>\n",
              "      <th>1</th>\n",
              "      <td>Ambrosini, Michael J.</td>\n",
              "      <td>Employee</td>\n",
              "      <td>95000.0</td>\n",
              "      <td>Per Annum</td>\n",
              "      <td>SPECIAL ASSISTANT TO THE PRESIDENT AND DIRECTO...</td>\n",
              "      <td>0.002969</td>\n",
              "      <td>11.461643</td>\n",
              "      <td>1</td>\n",
              "      <td>95000.0</td>\n",
              "    </tr>\n",
              "    <tr>\n",
              "      <th>2</th>\n",
              "      <td>Amin, Stacy C.</td>\n",
              "      <td>Employee</td>\n",
              "      <td>140000.0</td>\n",
              "      <td>Per Annum</td>\n",
              "      <td>SPECIAL ASSISTANT TO THE PRESIDENT AND ASSOCIA...</td>\n",
              "      <td>1.046753</td>\n",
              "      <td>11.849405</td>\n",
              "      <td>4</td>\n",
              "      <td>135000.0</td>\n",
              "    </tr>\n",
              "    <tr>\n",
              "      <th>3</th>\n",
              "      <td>Andersen, Whitney N.</td>\n",
              "      <td>Employee</td>\n",
              "      <td>94000.0</td>\n",
              "      <td>Per Annum</td>\n",
              "      <td>DEPUTY DIRECTOR OF OPERATIONS FOR THE WHITE HO...</td>\n",
              "      <td>-0.020226</td>\n",
              "      <td>11.451061</td>\n",
              "      <td>1</td>\n",
              "      <td>94000.0</td>\n",
              "    </tr>\n",
              "    <tr>\n",
              "      <th>4</th>\n",
              "      <td>Anderson, Alexander J.</td>\n",
              "      <td>Employee</td>\n",
              "      <td>77000.0</td>\n",
              "      <td>Per Annum</td>\n",
              "      <td>DIRECTOR OF DIGITAL ENGAGEMENT</td>\n",
              "      <td>-0.414545</td>\n",
              "      <td>11.251574</td>\n",
              "      <td>1</td>\n",
              "      <td>77000.0</td>\n",
              "    </tr>\n",
              "  </tbody>\n",
              "</table>\n",
              "</div>"
            ],
            "text/plain": [
              "                     NAME  ... POTITION TITLE AVG SALARY\n",
              "0    Alexander, Monica K.  ...                   57800.0\n",
              "1   Ambrosini, Michael J.  ...                   95000.0\n",
              "2          Amin, Stacy C.  ...                  135000.0\n",
              "3    Andersen, Whitney N.  ...                   94000.0\n",
              "4  Anderson, Alexander J.  ...                   77000.0\n",
              "\n",
              "[5 rows x 9 columns]"
            ]
          },
          "metadata": {
            "tags": []
          },
          "execution_count": 33
        }
      ]
    },
    {
      "cell_type": "markdown",
      "metadata": {
        "id": "gwuCurCNOUM7"
      },
      "source": [
        "### Q2"
      ]
    },
    {
      "cell_type": "code",
      "metadata": {
        "colab": {
          "base_uri": "https://localhost:8080/"
        },
        "id": "6mMb0Gs6Omrk",
        "outputId": "1d656746-c15c-483c-ee29-00fa37a93c6c"
      },
      "source": [
        "!curl https://raw.githubusercontent.com/fractalbass/data_engineer/master/data.csv > data.csv"
      ],
      "execution_count": 34,
      "outputs": [
        {
          "output_type": "stream",
          "text": [
            "  % Total    % Received % Xferd  Average Speed   Time    Time     Time  Current\n",
            "                                 Dload  Upload   Total   Spent    Left  Speed\n",
            "100  229k  100  229k    0     0  74193      0  0:00:03  0:00:03 --:--:-- 74217\n"
          ],
          "name": "stdout"
        }
      ]
    },
    {
      "cell_type": "code",
      "metadata": {
        "id": "LeS-RVmt2XSu"
      },
      "source": [
        "temp_data = pd.read_csv(\"data.csv\", sep = \",\", names = [\"ID\", \"val\"], header = None)"
      ],
      "execution_count": 35,
      "outputs": []
    },
    {
      "cell_type": "code",
      "metadata": {
        "colab": {
          "base_uri": "https://localhost:8080/",
          "height": 204
        },
        "id": "6NUE6uipOxeW",
        "outputId": "9be9ece1-4672-4f10-dff1-23eb23ee22c6"
      },
      "source": [
        "temp_data.head()"
      ],
      "execution_count": 36,
      "outputs": [
        {
          "output_type": "execute_result",
          "data": {
            "text/html": [
              "<div>\n",
              "<style scoped>\n",
              "    .dataframe tbody tr th:only-of-type {\n",
              "        vertical-align: middle;\n",
              "    }\n",
              "\n",
              "    .dataframe tbody tr th {\n",
              "        vertical-align: top;\n",
              "    }\n",
              "\n",
              "    .dataframe thead th {\n",
              "        text-align: right;\n",
              "    }\n",
              "</style>\n",
              "<table border=\"1\" class=\"dataframe\">\n",
              "  <thead>\n",
              "    <tr style=\"text-align: right;\">\n",
              "      <th></th>\n",
              "      <th>ID</th>\n",
              "      <th>val</th>\n",
              "    </tr>\n",
              "  </thead>\n",
              "  <tbody>\n",
              "    <tr>\n",
              "      <th>0</th>\n",
              "      <td>0</td>\n",
              "      <td>23.827290</td>\n",
              "    </tr>\n",
              "    <tr>\n",
              "      <th>1</th>\n",
              "      <td>1</td>\n",
              "      <td>23.589108</td>\n",
              "    </tr>\n",
              "    <tr>\n",
              "      <th>2</th>\n",
              "      <td>2</td>\n",
              "      <td>24.529556</td>\n",
              "    </tr>\n",
              "    <tr>\n",
              "      <th>3</th>\n",
              "      <td>3</td>\n",
              "      <td>16.684580</td>\n",
              "    </tr>\n",
              "    <tr>\n",
              "      <th>4</th>\n",
              "      <td>4</td>\n",
              "      <td>22.075507</td>\n",
              "    </tr>\n",
              "  </tbody>\n",
              "</table>\n",
              "</div>"
            ],
            "text/plain": [
              "   ID        val\n",
              "0   0  23.827290\n",
              "1   1  23.589108\n",
              "2   2  24.529556\n",
              "3   3  16.684580\n",
              "4   4  22.075507"
            ]
          },
          "metadata": {
            "tags": []
          },
          "execution_count": 36
        }
      ]
    },
    {
      "cell_type": "code",
      "metadata": {
        "colab": {
          "base_uri": "https://localhost:8080/"
        },
        "id": "ZzPuhVC3Oz5j",
        "outputId": "9fde8067-8c6f-4c5a-f96e-219aa96eb331"
      },
      "source": [
        "temp_data[\"val\"].describe()"
      ],
      "execution_count": 37,
      "outputs": [
        {
          "output_type": "execute_result",
          "data": {
            "text/plain": [
              "count    10000.000000\n",
              "mean        23.036075\n",
              "std          2.995296\n",
              "min         11.248686\n",
              "25%         21.007801\n",
              "50%         23.024042\n",
              "75%         25.069083\n",
              "max         33.286533\n",
              "Name: val, dtype: float64"
            ]
          },
          "metadata": {
            "tags": []
          },
          "execution_count": 37
        }
      ]
    },
    {
      "cell_type": "code",
      "metadata": {
        "colab": {
          "base_uri": "https://localhost:8080/",
          "height": 483
        },
        "id": "9Mv4TXnpQMba",
        "outputId": "26280042-d878-4cf6-d968-8d6f18fb989b"
      },
      "source": [
        "plt.figure(figsize = (15, 8))\n",
        "plt.hist(temp_data[\"val\"].values, bins = 50)\n",
        "plt.show()"
      ],
      "execution_count": 38,
      "outputs": [
        {
          "output_type": "display_data",
          "data": {
            "image/png": "[encoded data removed]",
            "text/plain": [
              "<Figure size 1080x576 with 1 Axes>"
            ]
          },
          "metadata": {
            "tags": [],
            "needs_background": "light"
          }
        }
      ]
    },
    {
      "cell_type": "markdown",
      "metadata": {
        "id": "tAgDA_VaRNUQ"
      },
      "source": [
        "The data is normally distributed with mean 23 and std 2.99."
      ]
    },
    {
      "cell_type": "code",
      "metadata": {
        "id": "ibBwm0wgQ28c"
      },
      "source": [
        ""
      ],
      "execution_count": 38,
      "outputs": []
    },
    {
      "cell_type": "markdown",
      "metadata": {
        "id": "Ml4DPiqxSuSq"
      },
      "source": [
        "## Section 3\n",
        "\n",
        "Pandas fillna method is the only way I know to impute null values and it is fast."
      ]
    },
    {
      "cell_type": "markdown",
      "metadata": {
        "id": "PyD--tHySyws"
      },
      "source": [
        "\n",
        "\n",
        "## Section 4\n",
        "\n",
        "Python has a library called threading and it has a function called Timer that allows people to write a script for this purpose. "
      ]
    },
    {
      "cell_type": "markdown",
      "metadata": {
        "id": "uGkss8tlSys5"
      },
      "source": [
        "\n",
        "\n",
        "## Section 5\n",
        "\n",
        "The math professors at Oregon State University are my favorite Mathematicians. They have a great impact on my life.\n",
        "1.   Prof. Ossiander, my undergraduate advisor and Probability professor, and Prof. Peszynska, who taught me Advanced Calculus, helped me be a better problem solver. They both assigned tremendous difficult problems each week. After surviving their classes, I believe practics make things perfect.\n",
        "2.   Prof. Fardani, my MS thesis advisor and Numerical Analysis professor, sparked my interest in Applied Mathematics. He always had good and interesting Matlab simulations to explain complex subjects. Recently, he wrote a simple Matlab program to illustrate how Covid-19 spread.\n",
        "\n"
      ]
    }
  ]
}